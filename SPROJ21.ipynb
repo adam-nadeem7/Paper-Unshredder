{
  "nbformat": 4,
  "nbformat_minor": 0,
  "metadata": {
    "colab": {
      "name": "SPROJ21.ipynb",
      "provenance": [],
      "collapsed_sections": []
    },
    "kernelspec": {
      "name": "python3",
      "display_name": "Python 3"
    }
  },
  "cells": [
    {
      "cell_type": "markdown",
      "metadata": {
        "id": "j53FqJchCVVG"
      },
      "source": [
        "## **Identifying and Reconstructing shredded documents.**\n",
        "\n",
        "\n"
      ]
    },
    {
      "cell_type": "markdown",
      "metadata": {
        "id": "dKMWSdxXCVT9"
      },
      "source": [
        "**Senior Year Project 2020-2021**\n",
        "\n",
        "\n",
        "**Supervisor**: Sir Fareed Zaffar\n",
        "\n",
        "**Group**: Malik Ali Hussain, Raheem Zafar, Aadam Nadeem. \n",
        "\n",
        "**Project Goal**:\n",
        "    \n",
        "> The following project is an attempt to reconstruct shredded paper to its original form through an automated code that does the job. The code will be given a shredded document from which it will identify individual shreds, store them as needed and figure out the right match for each shred which will eventually reconstuct the whole document or series of documents when scaled. In the initial phase we assume that all shreds provided to us contain no color other than black an white. To start with we also assume that shreds are uniformly rectangular.\n",
        "\n"
      ]
    },
    {
      "cell_type": "markdown",
      "metadata": {
        "id": "2MI1wjr-7iYB"
      },
      "source": [
        "# **PHASE-1: Cropping and seperating shredded images**  "
      ]
    },
    {
      "cell_type": "markdown",
      "metadata": {
        "id": "g5ad4gA77tjw"
      },
      "source": [
        "The following piece of working code shows the progress of the project in the first phase. The input for this phase was a number of shreds placed on a bright green distinct background. This is done to ensure a difference of RGB values between the background and the text. We expected the code to identify each shred separately and store them as a different image for further processing. The code written below serves the purpose and gives us the desirable output through a series of steps. \n",
        "\n",
        "*   The image with the shreds, placed needs to be stored on our google drive. From where the image is fetched as the code is executed. \n",
        "*   Then, the code identifies the WHITE areas in the image and stores their coordinates for further processing. \n",
        "*   Our technique includes drawing contours around the desirable area and then crop it out of the total image. The text written on the image was causing a hinderance as the code would draw contours around it also and the border of the image also incuded text that was cut in the shred which made the border a non continous white border. \n",
        "*   To overcome this all black areas were replcaed by white which changed the image into simple black strips on a green background. \n",
        "*   Next we used a built in function described below to find and draw contours around the white strips.\n",
        "*   The contours drawn were traced and cropped as desccribed in the specified cell below.\n",
        "\n",
        "\n",
        "\n",
        "\n",
        "\n",
        "\n",
        "\n",
        "\n"
      ]
    },
    {
      "cell_type": "code",
      "metadata": {
        "id": "mFMvLUs3rn2D"
      },
      "source": [
        "import cv2\n",
        "from google.colab.patches import cv2_imshow\n",
        "import numpy as np\n",
        "import matplotlib.pyplot as plt\n",
        "import sys\n",
        "import imutils\n",
        "from PIL import Image\n",
        "import pickle"
      ],
      "execution_count": null,
      "outputs": []
    },
    {
      "cell_type": "code",
      "metadata": {
        "id": "JngOsRKW14ur"
      },
      "source": [
        "from google.colab import drive\n",
        "drive.mount('/content/drive')"
      ],
      "execution_count": null,
      "outputs": []
    },
    {
      "cell_type": "code",
      "metadata": {
        "id": "vpaH0m6MczQv"
      },
      "source": [
        "# The initial image that contains the shreds is loaded into the code from the specified google drive folder. \n",
        "im = \"/content/drive/My Drive/sproj/test_image2.jpg\"\n",
        "image = cv2.imread(im)\n",
        "hsv = cv2.cvtColor(image,cv2.COLOR_BGR2HSV)\n",
        "cv2_imshow(image)"
      ],
      "execution_count": null,
      "outputs": []
    },
    {
      "cell_type": "code",
      "metadata": {
        "id": "bJggLe9FT_2N"
      },
      "source": [
        "# Define lower and uppper limits of what we call \"black\"\n",
        "black_lo = np.array([0,0,0])\n",
        "black_hi = np.array([250,250,250])\n",
        "\n",
        "# Mask image to only select blacks\n",
        "mask = cv2.inRange(hsv, black_lo, black_hi)\n",
        "\n",
        "# Change image to white where we found black\n",
        "image[mask > 0] = (255,255,255)\n",
        "\n",
        "cv2_imshow(image)"
      ],
      "execution_count": null,
      "outputs": []
    },
    {
      "cell_type": "code",
      "metadata": {
        "id": "i14kevafPjkV"
      },
      "source": [
        "# White strips are left on image and now contours of the outline of the strips are identified \n",
        "# cv2.findContours function is used to find the countour lines for the strips.\n",
        "# The pixel coordinates of the contours is obtained. \n",
        "lower = np.array([250, 250, 250])\n",
        "upper = np.array([255, 255, 255])\n",
        "mask = cv2.inRange(image, lower, upper)\n",
        "output = cv2.bitwise_and(image, image, mask = mask)\n",
        "\n",
        "\n",
        "cnts = cv2.findContours(mask.copy(), cv2.RETR_EXTERNAL,\n",
        "\tcv2.CHAIN_APPROX_SIMPLE)\n",
        "cnts = imutils.grab_contours(cnts)\n",
        "print(\"I found {} shreds\".format(len(cnts)))\n",
        "\n",
        "\n",
        "# loop over the contours\n",
        "for c in cnts:\n",
        "\t# draw the contour and show it\n",
        "\tcv2.drawContours(image, [c], -1, (255, 0, 0), 2)\n",
        "\tcv2.waitKey(0)\n",
        "cv2_imshow(image)"
      ],
      "execution_count": null,
      "outputs": []
    },
    {
      "cell_type": "code",
      "metadata": {
        "id": "KClcSE3_8eNb"
      },
      "source": [
        "# The original image is loaded back into the code. \n",
        "# The contour coordinates obtained are used to crop strips from the original image. \n",
        "# Each strip is stored as a seperate jpg image. \n",
        "im1 = \"/content/drive/My Drive/sproj/test_image2.jpg\"\n",
        "im = cv2.imread(im1)\n",
        "i = 0\n",
        "for contour_line in cnts:\n",
        "    x, y = [], []\n",
        "    for contour in contour_line:\n",
        "        x.append(int(contour[0][0]))\n",
        "        y.append(int(contour[0][1]))\n",
        "    x1, x2, y1, y2 = int(min(x)), int(max(x)), int(min(y)), int(max(y))\n",
        "    cropped = im[y1:y2, x1:x2]\n",
        "    cv2.imwrite('shred_{}.jpg'.format(i), im[y1:y2,x1:x2])\n",
        "    i += 1\n",
        "    # cv2_imshow(cropped)\n",
        "    "
      ],
      "execution_count": null,
      "outputs": []
    },
    {
      "cell_type": "markdown",
      "metadata": {
        "id": "__Kd4C513qit"
      },
      "source": [
        "# Phase 2"
      ]
    },
    {
      "cell_type": "code",
      "metadata": {
        "id": "MJSJOIToalKG",
        "outputId": "f789216d-4158-4ba8-98ce-6ba0d738b0b4",
        "colab": {
          "base_uri": "https://localhost:8080/",
          "height": 202
        }
      },
      "source": [
        "image = \"/content/drive/My Drive/sproj/font.jpg\"\n",
        "img = cv2.imread(image,0)\n",
        "rows,cols = img.shape\n",
        "one = []\n",
        "two = []\n",
        "\n",
        "for i in range(rows):\n",
        "  for j in range(cols):\n",
        "    k = img[i,j]\n",
        "    if k < 254:\n",
        "      one.append(i)\n",
        "      two.append(j)\n",
        "      \n",
        "print(min(one), min(two))\n",
        "print(max(one), max(two))\n",
        "\n",
        "x1, x2, y1, y2 = int(min(one)), int(max(one)), int(min(two)), int(max(two))\n",
        "cropped = img[x1:x2, y1:y2]\n",
        "cv2_imshow(cropped)\n",
        "\n",
        "array = []\n",
        "for i in range(x1,x2):\n",
        "  temp = []\n",
        "  for j in range(y1,y2):\n",
        "    temp.append(img[i,j])\n",
        "  array.append(temp)\n",
        "for i in range(len(array)):\n",
        "  print(array[i])\n",
        "array = np.array(array)"
      ],
      "execution_count": null,
      "outputs": [
        {
          "output_type": "stream",
          "text": [
            "77 78\n",
            "85 86\n"
          ],
          "name": "stdout"
        },
        {
          "output_type": "display_data",
          "data": {
            "image/png": "[encoded data removed]",
            "text/plain": [
              "<PIL.Image.Image image mode=L size=8x8 at 0x7F0E1D0E69E8>"
            ]
          },
          "metadata": {
            "tags": []
          }
        },
        {
          "output_type": "stream",
          "text": [
            "[255, 255, 255, 238, 0, 136, 255, 255]\n",
            "[255, 255, 255, 136, 34, 51, 255, 255]\n",
            "[255, 255, 255, 85, 204, 0, 237, 255]\n",
            "[255, 255, 238, 51, 254, 52, 135, 255]\n",
            "[254, 255, 170, 136, 255, 136, 67, 255]\n",
            "[255, 255, 85, 0, 1, 0, 0, 238]\n",
            "[255, 255, 68, 255, 254, 255, 51, 152]\n",
            "[255, 136, 136, 255, 255, 255, 136, 51]\n"
          ],
          "name": "stdout"
        }
      ]
    },
    {
      "cell_type": "code",
      "metadata": {
        "id": "9bJsSH7TNda7"
      },
      "source": [
        "for k in range(0, len(array[0])):\n",
        "  temp = []\n",
        "  temp1 = []\n",
        "  for i in range(len(array)):\n",
        "    temp2 = []\n",
        "    temp3 = []\n",
        "    for j in range(len(array[i])):\n",
        "      if i < j+k:\n",
        "        temp2.append(-1)\n",
        "        temp3.append(array[i][j])\n",
        "      else:\n",
        "        temp3.append(-1)\n",
        "        temp2.append(array[i][j])\n",
        "      \n",
        "    temp1.append(temp3)\n",
        "    temp.append(temp2)\n",
        "  for x in range(len(temp)):\n",
        "    print(temp[x])\n",
        "  print(\" \")\n",
        "  for x in range(len(temp1)):\n",
        "    print(temp1[x])\n",
        "  print(\" \")\n",
        "  print(\" \")\n",
        "  print(\" \")\n"
      ],
      "execution_count": null,
      "outputs": []
    },
    {
      "cell_type": "code",
      "metadata": {
        "id": "DC5pWqzSSzCx"
      },
      "source": [
        "for k in range(0, len(array[0])):\n",
        "  temp = []\n",
        "  temp1 = []\n",
        "  for i in range(len(array)):\n",
        "    temp2 = []\n",
        "    temp3 = []\n",
        "    for j in range(len(array[i])):\n",
        "      if i > j-k:\n",
        "        temp2.append(-1)\n",
        "        temp3.append(array[i][j])\n",
        "      else:\n",
        "        temp3.append(-1)\n",
        "        temp2.append(array[i][j])\n",
        "      \n",
        "    temp1.append(temp3)\n",
        "    temp.append(temp2)\n",
        "  for x in range(len(temp)):\n",
        "    print(temp[x])\n",
        "  print(\" \")\n",
        "  for x in range(len(temp1)):\n",
        "    print(temp1[x])\n",
        "  print(\" \")\n",
        "  print(\" \")\n",
        "  print(\" \")\n"
      ],
      "execution_count": null,
      "outputs": []
    },
    {
      "cell_type": "code",
      "metadata": {
        "id": "rsly3nz7S46T"
      },
      "source": [
        "for k in range(0, len(array[0])):\n",
        "  temp = []\n",
        "  temp1 = []\n",
        "  for i in range(len(array)-1, 0, -1):\n",
        "    temp2 = []\n",
        "    temp3 = []\n",
        "    for j in range(len(array[i])):\n",
        "      if i < j+k:\n",
        "        temp2.append(-1)\n",
        "        temp3.append(array[i][j])\n",
        "      else:\n",
        "        temp3.append(-1)\n",
        "        temp2.append(array[i][j])\n",
        "      \n",
        "    temp1.append(temp3)\n",
        "    temp.append(temp2)\n",
        "  for x in range(len(temp)):\n",
        "    print(temp[x])\n",
        "  print(\" \")\n",
        "  for x in range(len(temp1)):\n",
        "    print(temp1[x])\n",
        "  print(\" \")\n",
        "  print(\" \")\n",
        "  print(\" \")\n"
      ],
      "execution_count": null,
      "outputs": []
    },
    {
      "cell_type": "code",
      "metadata": {
        "id": "dUB46VF1RSG-"
      },
      "source": [
        "for k in range(0, len(array[0])):\n",
        "  temp = []\n",
        "  temp1 = []\n",
        "  for i in range(len(array)-1, 0, -1):\n",
        "    temp2 = []\n",
        "    temp3 = []\n",
        "    for j in range(len(array[i])):\n",
        "      if i > j-k:\n",
        "        temp2.append(-1)\n",
        "        temp3.append(array[i][j])\n",
        "      else:\n",
        "        temp3.append(-1)\n",
        "        temp2.append(array[i][j])\n",
        "      \n",
        "    temp1.append(temp3)\n",
        "    temp.append(temp2)\n",
        "  for x in range(len(temp)):\n",
        "    print(temp[x])\n",
        "  print(\" \")\n",
        "  for x in range(len(temp1)):\n",
        "    print(temp1[x])\n",
        "  print(\" \")\n",
        "  print(\" \")\n",
        "  print(\" \")\n"
      ],
      "execution_count": null,
      "outputs": []
    },
    {
      "cell_type": "code",
      "metadata": {
        "id": "nIlNFKJX0uTs"
      },
      "source": [
        "array = np.array(array)\n",
        "length = len(array[0])\n",
        "\n",
        "for i in range(1, length):\n",
        "  data1 = []\n",
        "  data2 = []\n",
        "  one = array[:,0:i]\n",
        "  two = array[:,i:length]\n",
        "  one_label = \"/content/drive/My Drive/sproj/B/\" + str(i) + \"One\"\n",
        "  two_label = \"/content/drive/My Drive/sproj/B/\" + str(i) + \"Two\"\n",
        "  \n",
        "  with open(one_label, 'wb') as handle:\n",
        "    pickle.dump(one, handle)\n",
        "  with open(two_label, 'wb') as handle:\n",
        "    pickle.dump(two, handle)\n",
        "\n",
        "  with open(one_label, 'rb') as handle:\n",
        "    data1 = pickle.load(handle)\n",
        "    # print(one_label)\n",
        "    # print(\"One\", data1 == one)\n",
        "\n",
        "  with open(two_label, 'rb') as handle:\n",
        "    data2 = pickle.load(handle)\n",
        "    # print(two_label)\n",
        "    # print(\"Two\", data2 == two)\n",
        "\n",
        "  concat = np.concatenate((data1, data2), axis = 1)\n",
        "  print(\"Equality\", array == concat)"
      ],
      "execution_count": null,
      "outputs": []
    },
    {
      "cell_type": "code",
      "metadata": {
        "id": "4q_p6lHbb96A"
      },
      "source": [
        "with open(\"/content/drive/My Drive/sproj/Absolute\", 'wb') as handle:\n",
        "  pickle.dump(array, handle)\n",
        "\n",
        "with open(\"/content/drive/My Drive/sproj/Absolute\", 'rb') as handle:\n",
        "  data = pickle.load(handle)\n",
        "  print(data)"
      ],
      "execution_count": null,
      "outputs": []
    },
    {
      "cell_type": "code",
      "metadata": {
        "id": "JcW8-zW43EI7"
      },
      "source": [
        "for i in range (65,91):\n",
        "    print(\"/content/drive/My Drive/sproj/font\"+chr(i)+\".jpg\")\n",
        "\n",
        "for i in range (97,123):\n",
        "    print(\"/content/drive/My Drive/sproj/font\"+chr(i)+\".jpg\")\n",
        "\n",
        "for i in range (48,58):\n",
        "    print(\"/content/drive/My Drive/sproj/font\"+chr(i)+\".jpg\")"
      ],
      "execution_count": null,
      "outputs": []
    },
    {
      "cell_type": "code",
      "metadata": {
        "id": "Ddfs3DTz63G8"
      },
      "source": [
        ""
      ],
      "execution_count": null,
      "outputs": []
    }
  ]
}